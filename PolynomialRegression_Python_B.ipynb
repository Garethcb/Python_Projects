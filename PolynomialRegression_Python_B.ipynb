{
 "cells": [
  {
   "cell_type": "markdown",
   "metadata": {},
   "source": [
    "___\n",
    "# <center> Import Python Libraries"
   ]
  },
  {
   "cell_type": "code",
   "execution_count": 1,
   "metadata": {},
   "outputs": [],
   "source": [
    "import numpy as np\n",
    "import pandas as pd\n",
    "import matplotlib.pyplot as plt\n",
    "\n",
    "from sklearn.model_selection import train_test_split\n",
    "from sklearn.preprocessing import StandardScaler\n",
    "from sklearn.metrics import mean_squared_error\n",
    "from sklearn.pipeline import Pipeline\n",
    "import seaborn as sns\n",
    "\n",
    "pd.set_option('display.max_columns',200)\n",
    "pd.set_option('display.max_rows',200)\n",
    "plt.rcParams[\"font.weight\"] = \"bold\"\n",
    "plt.rcParams[\"axes.labelweight\"] = \"bold\""
   ]
  },
  {
   "cell_type": "markdown",
   "metadata": {},
   "source": [
    "___\n",
    "## <center> Reading in our Saved CSV File\n",
    "    \n",
    "___"
   ]
  },
  {
   "cell_type": "code",
   "execution_count": 2,
   "metadata": {},
   "outputs": [
    {
     "data": {
      "text/html": [
       "<div>\n",
       "<style scoped>\n",
       "    .dataframe tbody tr th:only-of-type {\n",
       "        vertical-align: middle;\n",
       "    }\n",
       "\n",
       "    .dataframe tbody tr th {\n",
       "        vertical-align: top;\n",
       "    }\n",
       "\n",
       "    .dataframe thead th {\n",
       "        text-align: right;\n",
       "    }\n",
       "</style>\n",
       "<table border=\"1\" class=\"dataframe\">\n",
       "  <thead>\n",
       "    <tr style=\"text-align: right;\">\n",
       "      <th></th>\n",
       "      <th>Price</th>\n",
       "      <th>Age</th>\n",
       "      <th>Engine_Durability</th>\n",
       "      <th>Model_Honda/Volvo/Ford</th>\n",
       "      <th>Model_Isuzu/MG</th>\n",
       "      <th>Model_Jeep/Skoda</th>\n",
       "      <th>Model_Kia/Audi/Maz/Mini/Suz/Land/VW</th>\n",
       "      <th>Model_LDV/GWM</th>\n",
       "      <th>Model_Lexus/BMW</th>\n",
       "      <th>Model_Mit/Hyun/Benz/Ren/Nis/Sub/Toy</th>\n",
       "      <th>Body_Coupe/Convertible</th>\n",
       "      <th>Body_Hatchback</th>\n",
       "      <th>Body_Sedan</th>\n",
       "      <th>Body_Wagon</th>\n",
       "      <th>Transmission_Manual</th>\n",
       "      <th>Drive_AWD</th>\n",
       "      <th>Drive_Rear</th>\n",
       "      <th>Fuel_type_Hybrid</th>\n",
       "      <th>Fuel_type_LPG</th>\n",
       "      <th>Fuel_type_Unleaded</th>\n",
       "    </tr>\n",
       "  </thead>\n",
       "  <tbody>\n",
       "    <tr>\n",
       "      <th>0</th>\n",
       "      <td>15500.0</td>\n",
       "      <td>6</td>\n",
       "      <td>100.82</td>\n",
       "      <td>0</td>\n",
       "      <td>0</td>\n",
       "      <td>0</td>\n",
       "      <td>0</td>\n",
       "      <td>0</td>\n",
       "      <td>0</td>\n",
       "      <td>1</td>\n",
       "      <td>0</td>\n",
       "      <td>0</td>\n",
       "      <td>0</td>\n",
       "      <td>1</td>\n",
       "      <td>0</td>\n",
       "      <td>0</td>\n",
       "      <td>0</td>\n",
       "      <td>0</td>\n",
       "      <td>0</td>\n",
       "      <td>1</td>\n",
       "    </tr>\n",
       "    <tr>\n",
       "      <th>1</th>\n",
       "      <td>6499.0</td>\n",
       "      <td>17</td>\n",
       "      <td>182.25</td>\n",
       "      <td>0</td>\n",
       "      <td>0</td>\n",
       "      <td>0</td>\n",
       "      <td>0</td>\n",
       "      <td>0</td>\n",
       "      <td>0</td>\n",
       "      <td>0</td>\n",
       "      <td>0</td>\n",
       "      <td>1</td>\n",
       "      <td>0</td>\n",
       "      <td>0</td>\n",
       "      <td>0</td>\n",
       "      <td>0</td>\n",
       "      <td>0</td>\n",
       "      <td>0</td>\n",
       "      <td>0</td>\n",
       "      <td>1</td>\n",
       "    </tr>\n",
       "  </tbody>\n",
       "</table>\n",
       "</div>"
      ],
      "text/plain": [
       "     Price  Age  Engine_Durability  Model_Honda/Volvo/Ford  Model_Isuzu/MG  \\\n",
       "0  15500.0    6             100.82                       0               0   \n",
       "1   6499.0   17             182.25                       0               0   \n",
       "\n",
       "   Model_Jeep/Skoda  Model_Kia/Audi/Maz/Mini/Suz/Land/VW  Model_LDV/GWM  \\\n",
       "0                 0                                    0              0   \n",
       "1                 0                                    0              0   \n",
       "\n",
       "   Model_Lexus/BMW  Model_Mit/Hyun/Benz/Ren/Nis/Sub/Toy  \\\n",
       "0                0                                    1   \n",
       "1                0                                    0   \n",
       "\n",
       "   Body_Coupe/Convertible  Body_Hatchback  Body_Sedan  Body_Wagon  \\\n",
       "0                       0               0           0           1   \n",
       "1                       0               1           0           0   \n",
       "\n",
       "   Transmission_Manual  Drive_AWD  Drive_Rear  Fuel_type_Hybrid  \\\n",
       "0                    0          0           0                 0   \n",
       "1                    0          0           0                 0   \n",
       "\n",
       "   Fuel_type_LPG  Fuel_type_Unleaded  \n",
       "0              0                   1  \n",
       "1              0                   1  "
      ]
     },
     "execution_count": 2,
     "metadata": {},
     "output_type": "execute_result"
    }
   ],
   "source": [
    "final_df = pd.read_csv('ModellingNewCarSales_Web.csv')\n",
    "final_df.head(2)"
   ]
  },
  {
   "cell_type": "markdown",
   "metadata": {},
   "source": [
    "___\n",
    "## <center> Linear Regression Model\n",
    "    \n",
    "___"
   ]
  },
  {
   "cell_type": "code",
   "execution_count": 3,
   "metadata": {},
   "outputs": [],
   "source": [
    "from sklearn.linear_model import ElasticNet\n",
    "\n",
    "steps =[('scaler', StandardScaler()),\n",
    "       ('LinReg', ElasticNet())]\n",
    "\n",
    "LinReg_pipeline = Pipeline(steps)"
   ]
  },
  {
   "cell_type": "markdown",
   "metadata": {},
   "source": [
    "___\n",
    "## <center> Splitting the dataset into training and validation\n",
    "    \n",
    "___"
   ]
  },
  {
   "cell_type": "code",
   "execution_count": 4,
   "metadata": {},
   "outputs": [
    {
     "name": "stdout",
     "output_type": "stream",
     "text": [
      "Training dataset: X_train= (8431, 19) , y_train (8431,)\n",
      "\n",
      "Testing dataset: X_test= (2811, 19) , y_test (2811,)\n"
     ]
    }
   ],
   "source": [
    "# Create X,y variables\n",
    "X = final_df.drop(['Price'],axis =1).values\n",
    "y = final_df['Price'].values\n",
    "\n",
    "# Split Data into Training and Testing sets\n",
    "X_train, X_test, y_train, y_test = train_test_split(X, y, test_size=0.25, random_state=77)\n",
    "print('Training dataset: X_train=', X_train.shape, ', y_train', y_train.shape)\n",
    "print('\\nTesting dataset: X_test=', X_test.shape, ', y_test', y_test.shape)"
   ]
  },
  {
   "cell_type": "markdown",
   "metadata": {},
   "source": [
    "___\n",
    "## <center> Hyper-Parameter Tunning\n",
    "___"
   ]
  },
  {
   "cell_type": "code",
   "execution_count": 18,
   "metadata": {},
   "outputs": [
    {
     "name": "stdout",
     "output_type": "stream",
     "text": [
      "Fitting 5 folds for each of 6 candidates, totalling 30 fits\n"
     ]
    },
    {
     "name": "stderr",
     "output_type": "stream",
     "text": [
      "[Parallel(n_jobs=-1)]: Using backend LokyBackend with 8 concurrent workers.\n",
      "[Parallel(n_jobs=-1)]: Done  30 out of  30 | elapsed:    8.5s finished\n"
     ]
    },
    {
     "name": "stdout",
     "output_type": "stream",
     "text": [
      "Best parameters found: {'LinReg__l1_ratio': 0.9999999999999999}\n"
     ]
    }
   ],
   "source": [
    "from sklearn.model_selection import GridSearchCV,RandomizedSearchCV,KFold\n",
    "from sklearn.preprocessing import PolynomialFeatures\n",
    "\n",
    "cv_inner = KFold(n_splits=5, shuffle=True, random_state=1)\n",
    "\n",
    "steps =[\n",
    "    ('poly', PolynomialFeatures(degree=2)),\n",
    "       ('LinReg', ElasticNet(warm_start=True,\n",
    "                             max_iter=1000))]\n",
    "\n",
    "LinReg_pipeline = Pipeline(steps)\n",
    "\n",
    "# Create the parameter grid\n",
    "LinReg_param_grid = {\n",
    "    'LinReg__l1_ratio' :np.arange(0.5,1.01,0.1)\n",
    "}\n",
    "\n",
    "\n",
    "# Perform RandomizedSearchCV\n",
    "grid_lr = GridSearchCV(estimator=LinReg_pipeline,\n",
    "                             param_grid = LinReg_param_grid,\n",
    "                             n_jobs = -1,\n",
    "                             scoring = 'neg_mean_squared_error',\n",
    "                             cv=cv_inner, \n",
    "                             verbose=1)\n",
    "\n",
    "# Fit the estimator\n",
    "bestModel = grid_lr.fit(X_train, y_train)\n",
    "print(\"Best parameters found:\", grid_lr.best_params_)\n"
   ]
  },
  {
   "cell_type": "markdown",
   "metadata": {},
   "source": [
    "___\n",
    "## <center> Model Performance – Evaluation\n",
    "___"
   ]
  },
  {
   "cell_type": "code",
   "execution_count": 11,
   "metadata": {},
   "outputs": [
    {
     "name": "stdout",
     "output_type": "stream",
     "text": [
      "The naive MSE baseline is  86737755.56235546\n",
      "The naive RMSE baseline is  9313.31066604972\n",
      "\n",
      "The model performance in training for MSE: 25752144.981203098\n",
      "The model performance in training for RMSE: 5074.6571294229425\n",
      "\n",
      "The model performance in testing for MSE: 26158057.449044276\n",
      "The model performance in testing for RMSE: 5114.494838109065\n"
     ]
    }
   ],
   "source": [
    "# Fit pipeline\n",
    "LinReg_pipeline.fit(X_train,y_train)\n",
    "\n",
    "# Establishing a baseline\n",
    "baseline = np.mean(y)\n",
    "y_baseline = np.repeat(baseline, len(y_test))\n",
    "\n",
    "# Establishing baseline root/mean-squared-error\n",
    "naive_MSE = mean_squared_error(y_test, y_baseline)\n",
    "naive_RMSE = np.sqrt(mean_squared_error(y_test, y_baseline))\n",
    "\n",
    "# Prediction in the training dataset\n",
    "y_train_pred = LinReg_pipeline.predict(X_train)\n",
    "\n",
    "# Prediction in the testing dataset \n",
    "y_test_pred = LinReg_pipeline.predict(X_test)\n",
    "\n",
    "# Establishing model mean-squared-error\n",
    "MSE_training = mean_squared_error(y_train, y_train_pred)\n",
    "MSE_test = mean_squared_error(y_test, y_test_pred)\n",
    "\n",
    "# Establishing model root-mean-squared-error\n",
    "RMSE_training = np.sqrt(mean_squared_error(y_train, y_train_pred))\n",
    "RMSE_test=np.sqrt(mean_squared_error(y_test, y_test_pred))\n",
    "\n",
    "\n",
    "print('The naive MSE baseline is ', naive_MSE)\n",
    "print('The naive RMSE baseline is ', naive_RMSE)\n",
    "print(f'\\nThe model performance in training for MSE: {MSE_training}')\n",
    "print(f'The model performance in training for RMSE: {RMSE_training}')\n",
    "print(f'\\nThe model performance in testing for MSE: {MSE_test}')\n",
    "print(f'The model performance in testing for RMSE: {RMSE_test}')"
   ]
  },
  {
   "cell_type": "markdown",
   "metadata": {},
   "source": [
    "___\n",
    "## <center> Tunned Model Performance – Evaluation\n",
    "___"
   ]
  },
  {
   "cell_type": "code",
   "execution_count": 19,
   "metadata": {},
   "outputs": [
    {
     "name": "stdout",
     "output_type": "stream",
     "text": [
      "The naive MSE baseline is  86737755.56235546\n",
      "The naive RMSE baseline is  9313.31066604972\n",
      "\n",
      "The model performance in training for MSE: 17190726.498179138\n",
      "The model performance in training for RMSE: 4146.170100005442\n",
      "\n",
      "The model performance in testing for MSE: 18347474.73706647\n",
      "The model performance in testing for RMSE: 4283.3952347485365\n"
     ]
    }
   ],
   "source": [
    "# Establishing a baseline\n",
    "baseline = np.mean(y)\n",
    "y_baseline = np.repeat(baseline, len(y_test))\n",
    "\n",
    "# Establishing baseline root/mean-squared-error\n",
    "naive_MSE = mean_squared_error(y_test, y_baseline)\n",
    "naive_RMSE = np.sqrt(mean_squared_error(y_test, y_baseline))\n",
    "\n",
    "# Prediction in the training dataset\n",
    "y_train_pred = bestModel.predict(X_train)\n",
    "\n",
    "# Prediction in the testing dataset \n",
    "y_test_pred = bestModel.predict(X_test)\n",
    "\n",
    "# Establishing model mean-squared-error\n",
    "MSE_training = mean_squared_error(y_train, y_train_pred)\n",
    "MSE_test = mean_squared_error(y_test, y_test_pred)\n",
    "\n",
    "# Establishing model root-mean-squared-error\n",
    "RMSE_training = np.sqrt(mean_squared_error(y_train, y_train_pred))\n",
    "RMSE_test=np.sqrt(mean_squared_error(y_test, y_test_pred))\n",
    "\n",
    "\n",
    "print('The naive MSE baseline is ', naive_MSE)\n",
    "print('The naive RMSE baseline is ', naive_RMSE)\n",
    "print(f'\\nThe model performance in training for MSE: {MSE_training}')\n",
    "print(f'The model performance in training for RMSE: {RMSE_training}')\n",
    "print(f'\\nThe model performance in testing for MSE: {MSE_test}')\n",
    "print(f'The model performance in testing for RMSE: {RMSE_test}')"
   ]
  },
  {
   "cell_type": "markdown",
   "metadata": {},
   "source": [
    "___\n",
    "## <center> Model Performance – Plotting\n",
    "___"
   ]
  },
  {
   "cell_type": "code",
   "execution_count": 35,
   "metadata": {},
   "outputs": [
    {
     "data": {
      "text/plain": [
       "<AxesSubplot:xlabel='true', ylabel='predicted'>"
      ]
     },
     "execution_count": 35,
     "metadata": {},
     "output_type": "execute_result"
    },
    {
     "data": {
      "image/png": "[encoded data removed]",
      "text/plain": [
       "<Figure size 432x288 with 1 Axes>"
      ]
     },
     "metadata": {
      "needs_background": "light"
     },
     "output_type": "display_data"
    }
   ],
   "source": [
    "plotting_df = pd.DataFrame()\n",
    "plotting_df['predicted'] = grid_lr.predict(X)\n",
    "plotting_df['true'] = y\n",
    "sns.scatterplot(x = 'true', y = 'predicted', data = plotting_df)"
   ]
  }
 ],
 "metadata": {
  "kernelspec": {
   "display_name": "Python 3",
   "language": "python",
   "name": "python3"
  },
  "language_info": {
   "codemirror_mode": {
    "name": "ipython",
    "version": 3
   },
   "file_extension": ".py",
   "mimetype": "text/x-python",
   "name": "python",
   "nbconvert_exporter": "python",
   "pygments_lexer": "ipython3",
   "version": "3.7.6"
  }
 },
 "nbformat": 4,
 "nbformat_minor": 4
}
