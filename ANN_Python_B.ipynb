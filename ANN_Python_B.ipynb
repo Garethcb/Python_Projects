{
 "cells": [
  {
   "cell_type": "markdown",
   "metadata": {},
   "source": [
    "___\n",
    "# <center> Import Python Libraries"
   ]
  },
  {
   "cell_type": "code",
   "execution_count": 1,
   "metadata": {},
   "outputs": [],
   "source": [
    "import numpy as np\n",
    "import pandas as pd\n",
    "import matplotlib.pyplot as plt\n",
    "import seaborn as sns\n",
    "\n",
    "from sklearn.model_selection import train_test_split\n",
    "from sklearn.preprocessing import StandardScaler\n",
    "from sklearn.metrics import mean_squared_error\n",
    "from sklearn.pipeline import Pipeline\n",
    "import tensorflow as tf\n",
    "from tensorflow import keras\n",
    "import keras_tuner as kt\n",
    "\n",
    "pd.set_option('display.max_columns',200)\n",
    "pd.set_option('display.max_rows',200)\n",
    "plt.rcParams[\"font.weight\"] = \"bold\"\n",
    "plt.rcParams[\"axes.labelweight\"] = \"bold\""
   ]
  },
  {
   "cell_type": "markdown",
   "metadata": {},
   "source": [
    "___\n",
    "## <center> Reading in our Saved CSV File\n",
    "    \n",
    "___"
   ]
  },
  {
   "cell_type": "code",
   "execution_count": 2,
   "metadata": {},
   "outputs": [
    {
     "data": {
      "text/html": [
       "<div>\n",
       "<style scoped>\n",
       "    .dataframe tbody tr th:only-of-type {\n",
       "        vertical-align: middle;\n",
       "    }\n",
       "\n",
       "    .dataframe tbody tr th {\n",
       "        vertical-align: top;\n",
       "    }\n",
       "\n",
       "    .dataframe thead th {\n",
       "        text-align: right;\n",
       "    }\n",
       "</style>\n",
       "<table border=\"1\" class=\"dataframe\">\n",
       "  <thead>\n",
       "    <tr style=\"text-align: right;\">\n",
       "      <th></th>\n",
       "      <th>Price</th>\n",
       "      <th>Age</th>\n",
       "      <th>Engine_Durability</th>\n",
       "      <th>Model_Honda/Volvo/Ford</th>\n",
       "      <th>Model_Isuzu/MG</th>\n",
       "      <th>Model_Jeep/Skoda</th>\n",
       "      <th>Model_Kia/Audi/Maz/Mini/Suz/Land/VW</th>\n",
       "      <th>Model_LDV/GWM</th>\n",
       "      <th>Model_Lexus/BMW</th>\n",
       "      <th>Model_Mit/Hyun/Benz/Ren/Nis/Sub/Toy</th>\n",
       "      <th>Body_Coupe/Convertible</th>\n",
       "      <th>Body_Hatchback</th>\n",
       "      <th>Body_Sedan</th>\n",
       "      <th>Body_Wagon</th>\n",
       "      <th>Transmission_Manual</th>\n",
       "      <th>Drive_AWD</th>\n",
       "      <th>Drive_Rear</th>\n",
       "      <th>Fuel_type_Hybrid</th>\n",
       "      <th>Fuel_type_LPG</th>\n",
       "      <th>Fuel_type_Unleaded</th>\n",
       "    </tr>\n",
       "  </thead>\n",
       "  <tbody>\n",
       "    <tr>\n",
       "      <th>0</th>\n",
       "      <td>15500.0</td>\n",
       "      <td>6</td>\n",
       "      <td>100.82</td>\n",
       "      <td>0</td>\n",
       "      <td>0</td>\n",
       "      <td>0</td>\n",
       "      <td>0</td>\n",
       "      <td>0</td>\n",
       "      <td>0</td>\n",
       "      <td>1</td>\n",
       "      <td>0</td>\n",
       "      <td>0</td>\n",
       "      <td>0</td>\n",
       "      <td>1</td>\n",
       "      <td>0</td>\n",
       "      <td>0</td>\n",
       "      <td>0</td>\n",
       "      <td>0</td>\n",
       "      <td>0</td>\n",
       "      <td>1</td>\n",
       "    </tr>\n",
       "    <tr>\n",
       "      <th>1</th>\n",
       "      <td>6499.0</td>\n",
       "      <td>17</td>\n",
       "      <td>182.25</td>\n",
       "      <td>0</td>\n",
       "      <td>0</td>\n",
       "      <td>0</td>\n",
       "      <td>0</td>\n",
       "      <td>0</td>\n",
       "      <td>0</td>\n",
       "      <td>0</td>\n",
       "      <td>0</td>\n",
       "      <td>1</td>\n",
       "      <td>0</td>\n",
       "      <td>0</td>\n",
       "      <td>0</td>\n",
       "      <td>0</td>\n",
       "      <td>0</td>\n",
       "      <td>0</td>\n",
       "      <td>0</td>\n",
       "      <td>1</td>\n",
       "    </tr>\n",
       "  </tbody>\n",
       "</table>\n",
       "</div>"
      ],
      "text/plain": [
       "     Price  Age  Engine_Durability  Model_Honda/Volvo/Ford  Model_Isuzu/MG  \\\n",
       "0  15500.0    6             100.82                       0               0   \n",
       "1   6499.0   17             182.25                       0               0   \n",
       "\n",
       "   Model_Jeep/Skoda  Model_Kia/Audi/Maz/Mini/Suz/Land/VW  Model_LDV/GWM  \\\n",
       "0                 0                                    0              0   \n",
       "1                 0                                    0              0   \n",
       "\n",
       "   Model_Lexus/BMW  Model_Mit/Hyun/Benz/Ren/Nis/Sub/Toy  \\\n",
       "0                0                                    1   \n",
       "1                0                                    0   \n",
       "\n",
       "   Body_Coupe/Convertible  Body_Hatchback  Body_Sedan  Body_Wagon  \\\n",
       "0                       0               0           0           1   \n",
       "1                       0               1           0           0   \n",
       "\n",
       "   Transmission_Manual  Drive_AWD  Drive_Rear  Fuel_type_Hybrid  \\\n",
       "0                    0          0           0                 0   \n",
       "1                    0          0           0                 0   \n",
       "\n",
       "   Fuel_type_LPG  Fuel_type_Unleaded  \n",
       "0              0                   1  \n",
       "1              0                   1  "
      ]
     },
     "execution_count": 2,
     "metadata": {},
     "output_type": "execute_result"
    }
   ],
   "source": [
    "final_df = pd.read_csv('ModellingNewCarSales_Web.csv')\n",
    "final_df.head(2)"
   ]
  },
  {
   "cell_type": "markdown",
   "metadata": {},
   "source": [
    "___\n",
    "## <center> ANN Model\n",
    "    \n",
    "___"
   ]
  },
  {
   "cell_type": "code",
   "execution_count": 15,
   "metadata": {},
   "outputs": [],
   "source": [
    "from sklearn.neural_network import MLPRegressor\n",
    "\n",
    "steps =[('scaler', StandardScaler()),\n",
    "       ('mlp', MLPRegressor( max_iter = 300,\n",
    "                            learning_rate_init = 0.2))]\n",
    "\n",
    "ANN_pipeline = Pipeline(steps)\n"
   ]
  },
  {
   "cell_type": "markdown",
   "metadata": {},
   "source": [
    "___\n",
    "## <center> Splitting the dataset into training and validation\n",
    "    \n",
    "___"
   ]
  },
  {
   "cell_type": "code",
   "execution_count": 3,
   "metadata": {},
   "outputs": [
    {
     "name": "stdout",
     "output_type": "stream",
     "text": [
      "Training dataset: X_train= (8431, 19) , y_train (8431,)\n",
      "\n",
      "Testing dataset: X_test= (2811, 19) , y_test (2811,)\n"
     ]
    }
   ],
   "source": [
    "# Create X,y variables\n",
    "X = final_df.drop(['Price'],axis =1).values\n",
    "y = final_df['Price'].values\n",
    "\n",
    "# Split Data into Training and Testing sets\n",
    "X_train, X_test, y_train, y_test = train_test_split(X, y, test_size=0.25, random_state=77)\n",
    "print('Training dataset: X_train=', X_train.shape, ', y_train', y_train.shape)\n",
    "print('\\nTesting dataset: X_test=', X_test.shape, ', y_test', y_test.shape)"
   ]
  },
  {
   "cell_type": "markdown",
   "metadata": {},
   "source": [
    "___\n",
    "## <center> Hyper-Parameter Tunning\n",
    "___"
   ]
  },
  {
   "cell_type": "code",
   "execution_count": 17,
   "metadata": {},
   "outputs": [
    {
     "name": "stdout",
     "output_type": "stream",
     "text": [
      "Fitting 5 folds for each of 10 candidates, totalling 50 fits\n"
     ]
    },
    {
     "name": "stderr",
     "output_type": "stream",
     "text": [
      "[Parallel(n_jobs=-1)]: Using backend LokyBackend with 8 concurrent workers.\n",
      "[Parallel(n_jobs=-1)]: Done  34 tasks      | elapsed:   28.2s\n",
      "[Parallel(n_jobs=-1)]: Done  50 out of  50 | elapsed:   43.6s finished\n"
     ]
    },
    {
     "name": "stdout",
     "output_type": "stream",
     "text": [
      "best parameters {'mlp__solver': 'adam', 'mlp__max_iter': 200, 'mlp__learning_rate_init': 0.19, 'mlp__hidden_layer_sizes': (50, 50, 50), 'mlp__alpha': 0.05, 'mlp__activation': 'relu'}\n"
     ]
    }
   ],
   "source": [
    "from sklearn.model_selection import RandomizedSearchCV,KFold\n",
    "\n",
    "cv_inner = KFold(n_splits=5, shuffle=True, random_state=1)\n",
    "\n",
    "#Calibration of the parameters\n",
    "param_grid = {\n",
    "    'mlp__hidden_layer_sizes': [(50,50,50), (50,100,50), (100,1)],\n",
    "    'mlp__activation': ['relu','tanh'],\n",
    "    'mlp__max_iter':[100,200],\n",
    "    'mlp__alpha': [0.0001, 0.05],\n",
    "    'mlp__learning_rate_init': [0.17,0.19],\n",
    "    'mlp__solver': ['adam']\n",
    "}\n",
    "\n",
    "#Searching for the optimal from param_grid\n",
    "grid_mse = RandomizedSearchCV(estimator= ANN_pipeline,\n",
    "                                     param_distributions=param_grid,\n",
    "                                     scoring='neg_mean_squared_error', \n",
    "                                     n_jobs = -1,\n",
    "                                     cv=cv_inner, \n",
    "                                     verbose=1)# cv determines the cross-validation splitting\n",
    "\n",
    "\n",
    "#Checking how many time takes to find the optimum values \n",
    "grid_mse.fit(X_train, y_train)\n",
    "print('best parameters',grid_mse.best_params_)"
   ]
  },
  {
   "cell_type": "markdown",
   "metadata": {},
   "source": [
    "___\n",
    "## <center> Model Performance – Evaluation\n",
    "___"
   ]
  },
  {
   "cell_type": "code",
   "execution_count": 16,
   "metadata": {},
   "outputs": [
    {
     "name": "stdout",
     "output_type": "stream",
     "text": [
      "The naive MSE baseline is  86737755.56235546\n",
      "The naive RMSE baseline is  9313.31066604972\n",
      "\n",
      "The model performance in training for MSE: 15398009.157728743\n",
      "The model performance in training for RMSE: 3924.029709078251\n",
      "\n",
      "The model performance in testing for MSE: 16445418.667606713\n",
      "The model performance in testing for RMSE: 4055.29513939574\n"
     ]
    }
   ],
   "source": [
    "# Fit pipeline\n",
    "ANN_pipeline.fit(X_train,y_train)\n",
    "\n",
    "# Establishing a baseline\n",
    "baseline = np.mean(y)\n",
    "y_baseline = np.repeat(baseline, len(y_test))\n",
    "\n",
    "# Establishing baseline root/mean-squared-error\n",
    "naive_MSE = mean_squared_error(y_test, y_baseline)\n",
    "naive_RMSE = np.sqrt(mean_squared_error(y_test, y_baseline))\n",
    "\n",
    "# Prediction in the training dataset\n",
    "y_train_pred = ANN_pipeline.predict(X_train)\n",
    "\n",
    "# Prediction in the testing dataset \n",
    "y_test_pred = ANN_pipeline.predict(X_test)\n",
    "\n",
    "# Establishing model mean-squared-error\n",
    "MSE_training = mean_squared_error(y_train, y_train_pred)\n",
    "MSE_test = mean_squared_error(y_test, y_test_pred)\n",
    "\n",
    "# Establishing model root-mean-squared-error\n",
    "RMSE_training = np.sqrt(mean_squared_error(y_train, y_train_pred))\n",
    "RMSE_test=np.sqrt(mean_squared_error(y_test, y_test_pred))\n",
    "\n",
    "\n",
    "print('The naive MSE baseline is ', naive_MSE)\n",
    "print('The naive RMSE baseline is ', naive_RMSE)\n",
    "print(f'\\nThe model performance in training for MSE: {MSE_training}')\n",
    "print(f'The model performance in training for RMSE: {RMSE_training}')\n",
    "print(f'\\nThe model performance in testing for MSE: {MSE_test}')\n",
    "print(f'The model performance in testing for RMSE: {RMSE_test}')"
   ]
  },
  {
   "cell_type": "markdown",
   "metadata": {},
   "source": [
    "___\n",
    "## <center> Tunned Model Performance – Evaluation\n",
    "___"
   ]
  },
  {
   "cell_type": "code",
   "execution_count": 18,
   "metadata": {},
   "outputs": [
    {
     "name": "stdout",
     "output_type": "stream",
     "text": [
      "The naive MSE baseline is  86737755.56235546\n",
      "The naive RMSE baseline is  9313.31066604972\n",
      "\n",
      "The model performance in training for MSE: 14231121.249730999\n",
      "The model performance in training for RMSE: 3772.4158373290447\n",
      "\n",
      "The model performance in testing for MSE: 16230784.539543003\n",
      "The model performance in testing for RMSE: 4028.7447846125724\n"
     ]
    }
   ],
   "source": [
    "# Establishing a baseline\n",
    "baseline = np.mean(y)\n",
    "y_baseline = np.repeat(baseline, len(y_test))\n",
    "\n",
    "# Establishing baseline root/mean-squared-error\n",
    "naive_MSE = mean_squared_error(y_test, y_baseline)\n",
    "naive_RMSE = np.sqrt(mean_squared_error(y_test, y_baseline))\n",
    "\n",
    "# Prediction in the training dataset\n",
    "y_train_pred = grid_mse.predict(X_train)\n",
    "\n",
    "# Prediction in the testing dataset \n",
    "y_test_pred = grid_mse.predict(X_test)\n",
    "\n",
    "# Establishing model mean-squared-error\n",
    "MSE_training = mean_squared_error(y_train, y_train_pred)\n",
    "MSE_test = mean_squared_error(y_test, y_test_pred)\n",
    "\n",
    "# Establishing model root-mean-squared-error\n",
    "RMSE_training = np.sqrt(mean_squared_error(y_train, y_train_pred))\n",
    "RMSE_test=np.sqrt(mean_squared_error(y_test, y_test_pred))\n",
    "\n",
    "\n",
    "print('The naive MSE baseline is ', naive_MSE)\n",
    "print('The naive RMSE baseline is ', naive_RMSE)\n",
    "print(f'\\nThe model performance in training for MSE: {MSE_training}')\n",
    "print(f'The model performance in training for RMSE: {RMSE_training}')\n",
    "print(f'\\nThe model performance in testing for MSE: {MSE_test}')\n",
    "print(f'The model performance in testing for RMSE: {RMSE_test}')"
   ]
  },
  {
   "cell_type": "markdown",
   "metadata": {},
   "source": [
    "___\n",
    "## <center> Model Performance – Plotting\n",
    "___"
   ]
  },
  {
   "cell_type": "code",
   "execution_count": 129,
   "metadata": {},
   "outputs": [
    {
     "data": {
      "text/plain": [
       "<AxesSubplot:xlabel='true', ylabel='predicted'>"
      ]
     },
     "execution_count": 129,
     "metadata": {},
     "output_type": "execute_result"
    },
    {
     "data": {
      "image/png": "[encoded data removed]",
      "text/plain": [
       "<Figure size 432x288 with 1 Axes>"
      ]
     },
     "metadata": {
      "needs_background": "light"
     },
     "output_type": "display_data"
    }
   ],
   "source": [
    "plotting_df = pd.DataFrame()\n",
    "plotting_df['predicted'] = ANN_pipeline.predict(X)\n",
    "plotting_df['true'] = y\n",
    "sns.scatterplot(x = 'true', y = 'predicted', data = plotting_df)"
   ]
  }
 ],
 "metadata": {
  "kernelspec": {
   "display_name": "Python 3",
   "language": "python",
   "name": "python3"
  },
  "language_info": {
   "codemirror_mode": {
    "name": "ipython",
    "version": 3
   },
   "file_extension": ".py",
   "mimetype": "text/x-python",
   "name": "python",
   "nbconvert_exporter": "python",
   "pygments_lexer": "ipython3",
   "version": "3.7.6"
  }
 },
 "nbformat": 4,
 "nbformat_minor": 4
}
